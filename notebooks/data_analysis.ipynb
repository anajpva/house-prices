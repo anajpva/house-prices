{
 "cells": [
  {
   "cell_type": "code",
   "execution_count": null,
   "id": "8ede70f2-205e-4250-909d-0cb068b1372f",
   "metadata": {},
   "outputs": [],
   "source": [
    "import sys\n",
    "import os\n",
    "\n",
    "# Add project root to pythonpath\n",
    "sys.path.append(os.path.abspath(os.path.join(os.getcwd(), '..')))"
   ]
  },
  {
   "cell_type": "code",
   "execution_count": null,
   "id": "2068e0fe-47ac-4909-a999-1f1feb85912e",
   "metadata": {
    "scrolled": true
   },
   "outputs": [],
   "source": [
    "import numpy as np\n",
    "import pandas as pd\n",
    "import matplotlib.pyplot as plt\n",
    "from scipy.stats import zscore\n",
    "import seaborn as sns\n",
    "\n",
    "from src.data.load_data import load_data"
   ]
  },
  {
   "cell_type": "code",
   "execution_count": null,
   "id": "e4a2e4cb-84b1-4d2f-bfdd-df4bb9c32c89",
   "metadata": {},
   "outputs": [],
   "source": [
    "# Load data\n",
    "data_path = 'data/train/train.csv'\n",
    "data = load_data(data_path)"
   ]
  },
  {
   "cell_type": "code",
   "execution_count": null,
   "id": "4456cdba-65d7-4697-b003-f45415ae1602",
   "metadata": {},
   "outputs": [],
   "source": [
    "data.describe()"
   ]
  },
  {
   "cell_type": "code",
   "execution_count": null,
   "id": "614b6085-ae9c-4667-a697-167019e005ff",
   "metadata": {},
   "outputs": [],
   "source": [
    "#data.head()\n",
    "#data.info()"
   ]
  },
  {
   "cell_type": "code",
   "execution_count": null,
   "id": "493010dd-01b2-4cfe-9f49-1fdb821c9a10",
   "metadata": {},
   "outputs": [],
   "source": [
    "data_train = data.copy()"
   ]
  },
  {
   "cell_type": "code",
   "execution_count": null,
   "id": "066ccb97-e312-42a4-9d81-1387cb5028ed",
   "metadata": {},
   "outputs": [],
   "source": [
    "#Let's analize those columns with null values\n",
    "\n",
    "# Columns with null values\n",
    "null_columns = data_train.isnull().sum().sort_values(ascending=False)\n",
    "null_columns = null_columns[null_columns > 0]\n",
    "\n",
    "# Temp DataFrame of columns with null values\n",
    "output_table = pd.DataFrame({\n",
    "    \"Column\": null_columns.index,\n",
    "    \"NullCount\": null_columns.values,\n",
    "    \"DataType\": [data_train[col].dtype for col in null_columns.index],\n",
    "    \"UniqueValues\": [\n",
    "        \", \".join(map(str, data_train[col].dropna().unique())) if data_train[col].dtype == \"object\" else None\n",
    "        for col in null_columns.index\n",
    "    ],\n",
    "    \"CorrelationWithSalePrice\": [\n",
    "        data_train[col].corr(data_train[\"SalePrice\"]) if data_train[col].dtype != \"object\" else None\n",
    "        for col in null_columns.index\n",
    "    ], \n",
    "})\n",
    "\n",
    "output_table.reset_index(drop=True, inplace=True)\n",
    "output_table"
   ]
  },
  {
   "cell_type": "code",
   "execution_count": null,
   "id": "2ccd06da-48a7-4d5f-8955-323b245d6697",
   "metadata": {
    "scrolled": true
   },
   "outputs": [],
   "source": [
    "# Let's plot string columns with null values against the selling price\n",
    "\n",
    "string_columns = data_train.select_dtypes(include=[\"object\"])\n",
    "string_columns_with_nulls = [col for col in string_columns.columns if data_train[col].isnull().any()]\n",
    "\n",
    "# Assign 'No' as default value\n",
    "data_train[string_columns_with_nulls] = data_train[string_columns_with_nulls].fillna(\"No\")\n",
    "\n",
    "# Plot value vs SalePrice\n",
    "for column in string_columns_with_nulls:\n",
    "    sns.catplot(\n",
    "        x=column,\n",
    "        y=\"SalePrice\",\n",
    "        data=data_train,\n",
    "        kind=\"box\",\n",
    "        aspect=1,\n",
    "    )\n",
    "    plt.title(f\"{column} vs SalePrice\")\n",
    "    plt.tight_layout()\n",
    "    plt.show()\n",
    "\n",
    "# We'll drop: 'Alley','MasVnrType','BsmtCond','PoolQC','Fence','MiscFeature','GarageQual', 'GarageCond' and 'BsmtFinType2'"
   ]
  },
  {
   "cell_type": "code",
   "execution_count": null,
   "id": "6f09ce25-0bec-4c1a-9b8d-a14430e0bc40",
   "metadata": {},
   "outputs": [],
   "source": [
    "def plot_corr_heatmap(data, annot=False, full_size=False, corr_threshold = None):\n",
    "    if full_size:\n",
    "        plt.figure(figsize=(20,12))\n",
    "\n",
    "    # Only numeric columns are selected\n",
    "    numeric_data = data.select_dtypes(include=[\"number\"])\n",
    "    correlation_matrix = numeric_data.corr()\n",
    "    \n",
    "    annot_data = annot\n",
    "    if annot and corr_threshold:\n",
    "        annot_mask = correlation_matrix.abs() >= corr_threshold\n",
    "        annot_data = np.where(annot_mask, correlation_matrix.round(2), \"\")\n",
    "    \n",
    "    sns.heatmap(\n",
    "        correlation_matrix, \n",
    "        annot=annot_data if annot else False, \n",
    "        center=0, \n",
    "        cmap=\"coolwarm\", \n",
    "        fmt=\"s\",\n",
    "        linewidth=.5 \n",
    "    )\n",
    "    \n",
    "    #plt.show()"
   ]
  },
  {
   "cell_type": "code",
   "execution_count": null,
   "id": "fa6f53ba-4bf4-4765-8d42-71d1c5ab6177",
   "metadata": {},
   "outputs": [],
   "source": [
    "def getDatasetNumericColumns(dataset):\n",
    "    return dataset.select_dtypes(include=['number']).columns.tolist()"
   ]
  },
  {
   "cell_type": "code",
   "execution_count": null,
   "id": "b7ba08e6-f216-4277-a082-21b1d5deb9b1",
   "metadata": {},
   "outputs": [],
   "source": [
    "numeric_columns = getDatasetNumericColumns(data)"
   ]
  },
  {
   "cell_type": "code",
   "execution_count": null,
   "id": "e75db50a-7816-43d2-80ea-39a47eeb6c62",
   "metadata": {},
   "outputs": [],
   "source": [
    "numeric_columns_wo_price = numeric_columns.copy()\n",
    "numeric_columns_wo_price.remove(\"SalePrice\")\n",
    "numeric_columns_wo_price.remove(\"Id\")"
   ]
  },
  {
   "cell_type": "code",
   "execution_count": null,
   "id": "820e0d58-f85d-47b1-af5d-c9a3bf94a5c7",
   "metadata": {},
   "outputs": [],
   "source": [
    "len(data_train)"
   ]
  },
  {
   "cell_type": "code",
   "execution_count": null,
   "id": "6cd54c73-a062-4fd5-b390-b89b22c2955d",
   "metadata": {
    "scrolled": true
   },
   "outputs": [],
   "source": [
    "# Plot config\n",
    "num_columns = len(numeric_columns_wo_price)\n",
    "rows = (num_columns // 3) + (num_columns % 3 > 0)  # Get rows needed\n",
    "fig, axes = plt.subplots(rows, 3, figsize=(15, 5 * rows))  # Set the plot size\n",
    "\n",
    "# Adjust layout to avoid overlapping\n",
    "fig.tight_layout(pad=5.0)\n",
    "\n",
    "# Get the total number of rows in the dataset\n",
    "total_rows = len(data_train)\n",
    "\n",
    "# Generate scatter plots for each numeric column against SalePrice\n",
    "for i, column in enumerate(numeric_columns_wo_price):\n",
    "    row = i // 3\n",
    "    col = i % 3\n",
    "    ax = axes[row, col] if rows > 1 else axes[col]\n",
    "\n",
    "    # Count non-null rows in the current column\n",
    "    non_null_count = data_train[column].notna().sum()\n",
    "\n",
    "    # Plot the scatter plot\n",
    "    ax.scatter(data_train[column], data_train[\"SalePrice\"], alpha=0.6)\n",
    "    ax.set_title(f'{column} vs SalePrice\\n({round(non_null_count * 100 / total_rows ,2)})')\n",
    "    ax.set_xlabel(column)\n",
    "    ax.set_ylabel(\"SalePrice\")\n",
    "\n",
    "# Hide empty plots if overlaping\n",
    "for j in range(i + 1, rows * 3):\n",
    "    row = j // 3\n",
    "    col = j % 3\n",
    "    ax = axes[row, col] if rows > 1 else axes[col]\n",
    "    ax.axis(\"off\")\n",
    "\n",
    "# Adjust spacing between plots\n",
    "plt.subplots_adjust(hspace=0.5)\n",
    "plt.show()\n",
    "\n",
    "# Remove rows based on specific limit criteria to clean the dataset\n",
    "    # LotFrontage > 300 [934, 1298] \n",
    "    # LotArea > 70000 [249, 313, 335, 451, 706]\n",
    "    # OverallCond [378, 691, 1182]\n",
    "    # MasVnrArea > 1300 [297, 1169]\n",
    "    # houseAge > 100 and SalePrice > 400000 [185]\n",
    "    # totalBaths >= 5 [738, 921]\n",
    "    # MiscVal >= 4000 [346, 1230]\n",
    "    # totalCoveredArea >= 6000 [496, 523]\n",
    "\n",
    "# Corresponding to rows = [934, 1298, 249, 313, 335, 451, 706, 378, 691, 1182, 297, 1169, 185, 738, 921, 346, 1230, 496, 523]\n",
    "# Remove PoolArea as it has too little information"
   ]
  },
  {
   "cell_type": "code",
   "execution_count": null,
   "id": "f666e08a-e0ab-4878-8227-613e92720999",
   "metadata": {},
   "outputs": [],
   "source": [
    "#data_train.query('totalCoveredArea >= 6000')"
   ]
  },
  {
   "cell_type": "code",
   "execution_count": null,
   "id": "5dbb3b23-5ffc-4c53-b09f-a3e871d0f9bb",
   "metadata": {},
   "outputs": [],
   "source": [
    "# Add new features to the dataset\n",
    "def add_features(dataset):\n",
    "    dataset['houseAge'] = dataset['YrSold'] - dataset['YearBuilt']\n",
    "    dataset['houseRemodAge'] = dataset['YrSold'] - dataset['YearRemodAdd']\n",
    "    #dataset['garageAge'] = dataset['YrSold'] - dataset['GarageYrBlt']\n",
    "    dataset['totalBaths'] = dataset['BsmtFullBath'] + dataset['FullBath'] + 0.5* (dataset['HalfBath'] + dataset['BsmtHalfBath'])\n",
    "    dataset['porchDeckArea'] = dataset['WoodDeckSF'] + dataset['OpenPorchSF'] + dataset['EnclosedPorch'] + dataset['3SsnPorch'] + dataset['ScreenPorch']\n",
    "    #dataset['totalFinArea'] = dataset['BsmtFinSF1'] + dataset['BsmtFinSF2'] + dataset['1stFlrSF'] + dataset['2ndFlrSF']\n",
    "    dataset['totalCoveredArea'] = dataset['GrLivArea'] + dataset['TotalBsmtSF']\n",
    "\n",
    "    return dataset"
   ]
  },
  {
   "cell_type": "code",
   "execution_count": null,
   "id": "9bf4bb08-7133-47d3-b719-3a9313dc9377",
   "metadata": {},
   "outputs": [],
   "source": [
    "# Drop unnecessary features from the dataset\n",
    "def drop_features(dataset):\n",
    "    # Drop columns with little information or high correlation with others\n",
    "    dataset = dataset.drop(columns=['Id','Alley','MasVnrType','BsmtCond','PoolQC','Fence',\n",
    "                                    'MiscFeature','GarageQual','GarageCond', 'BsmtFinType2'])\n",
    "    \n",
    "    # Drop columns used to create new features\n",
    "    dataset = dataset.drop(columns=['YrSold','YearBuilt','YearRemodAdd','BsmtFullBath',\n",
    "                                   'FullBath','HalfBath','BsmtHalfBath','WoodDeckSF',\n",
    "                                   'OpenPorchSF','EnclosedPorch','3SsnPorch','ScreenPorch',\n",
    "                                    'BsmtFinSF1','BsmtFinSF2','1stFlrSF','2ndFlrSF','GrLivArea',\n",
    "                                   'TotalBsmtSF','GarageYrBlt','GarageArea'])\n",
    "\n",
    "    return dataset"
   ]
  },
  {
   "cell_type": "code",
   "execution_count": null,
   "id": "fc07d7e6-5886-43bb-9de0-4cb0bf7ffc30",
   "metadata": {},
   "outputs": [],
   "source": [
    "def fill_null_values(dataset):\n",
    "    string_columns_with_nulls = ['FireplaceQu','GarageFinish','GarageType',\n",
    "                                 'BsmtExposure','BsmtFinType1','BsmtQual','Electrical']\n",
    "    dataset[string_columns_with_nulls] = dataset[string_columns_with_nulls].fillna(\"No\")\n",
    "    \n",
    "    numeric_columns_with_nulls = ['LotFrontage','MasVnrArea']\n",
    "    dataset[numeric_columns_with_nulls] = dataset[numeric_columns_with_nulls].fillna(0)\n",
    "\n",
    "    return dataset"
   ]
  },
  {
   "cell_type": "code",
   "execution_count": null,
   "id": "82f8b24d-ba21-456c-bb06-4a4da021ec16",
   "metadata": {},
   "outputs": [],
   "source": [
    "def feature_engineering(dataset):\n",
    "    dataset_final = dataset.copy()\n",
    "    dataset_final = add_features(dataset_final)\n",
    "    dataset_final = drop_features(dataset_final)\n",
    "    dataset_final = fill_null_values(dataset_final)\n",
    "    \n",
    "    return dataset_final"
   ]
  },
  {
   "cell_type": "code",
   "execution_count": null,
   "id": "02b14535-b39d-49f3-8db5-5a6d6a47a500",
   "metadata": {},
   "outputs": [],
   "source": [
    "data_train = feature_engineering(data)"
   ]
  },
  {
   "cell_type": "code",
   "execution_count": null,
   "id": "5336d00b-05e8-4571-ac4f-fbca7a026a48",
   "metadata": {},
   "outputs": [],
   "source": [
    "getDatasetNumericColumns(data_train)"
   ]
  },
  {
   "cell_type": "code",
   "execution_count": null,
   "id": "497b6972-b3b6-4c8d-ad8d-35b82e2813ee",
   "metadata": {},
   "outputs": [],
   "source": [
    "#plot_corr_heatmap(data_train[['totalFinArea', 'totalCoveredArea','SalePrice']], True, False, 0.5)\n",
    "#plot_corr_heatmap(data_train[['GarageArea', 'GarageCars','SalePrice']], True, False, 0.5)\n",
    "\n",
    "# Drop GarageArea and GarageCars (both are always simultaneously informed; prefer GarageCars for its categorical nature)"
   ]
  },
  {
   "cell_type": "code",
   "execution_count": null,
   "id": "bceeb3b1-5c8c-46d2-bfff-3514cfc43293",
   "metadata": {},
   "outputs": [],
   "source": [
    "# Plot correlation heatmap for numeric columns with a threshold\n",
    "plot_corr_heatmap(data_train, True, True, 0.8)\n",
    "\n",
    "# Drop GarageArea and GarageCars (previously checked both are always simultaniously informed)"
   ]
  },
  {
   "cell_type": "code",
   "execution_count": null,
   "id": "46037a99-a922-4830-a5ab-343372a59f38",
   "metadata": {},
   "outputs": [],
   "source": [
    "# SalePrice distribution\n",
    "sns.histplot(data_train[\"SalePrice\"], kde=True, alpha=0.7)"
   ]
  },
  {
   "cell_type": "code",
   "execution_count": null,
   "id": "327e89b9-0594-4cc7-817d-c6530533dead",
   "metadata": {},
   "outputs": [],
   "source": [
    "# Normalize SalePrice distribution \n",
    "sns.histplot(np.log1p(data_train[\"SalePrice\"]), kde=True, alpha=0.7)"
   ]
  },
  {
   "cell_type": "code",
   "execution_count": null,
   "id": "1ecf3615-0e0b-49b9-a188-c555a4f0c453",
   "metadata": {
    "scrolled": true
   },
   "outputs": [],
   "source": [
    "# Identify square feet columns and analyze their correlations\n",
    "data_train_columns = data_train.select_dtypes(include=['number']).columns.tolist()\n",
    "square_feet_columns = [col for col in data_train_columns if 'sf' in col.lower()] \n",
    "area_columns = [col for col in data_train_columns if 'area' in col.lower()] \n",
    "sq_area_columns = square_feet_columns + area_columns\n"
   ]
  },
  {
   "cell_type": "code",
   "execution_count": null,
   "id": "2a766c36-d2cc-4c4a-b8ba-f50136bb8c08",
   "metadata": {
    "scrolled": true
   },
   "outputs": [],
   "source": [
    "#plot_corr_heatmap(data_train[['LotArea', 'totalCoveredArea', 'porchDeckArea', 'totalFinArea']])"
   ]
  },
  {
   "cell_type": "code",
   "execution_count": null,
   "id": "09cf5a06-82c0-46f9-9cc5-61fcc4f784ac",
   "metadata": {},
   "outputs": [],
   "source": [
    "plot_corr_heatmap(data_train[area_columns])"
   ]
  },
  {
   "cell_type": "code",
   "execution_count": null,
   "id": "f61851cc-5d6f-4e9b-9212-3fd27a2a9b84",
   "metadata": {},
   "outputs": [],
   "source": [
    "plot_corr_heatmap(data_train[sq_area_columns])"
   ]
  },
  {
   "cell_type": "code",
   "execution_count": null,
   "id": "7a8abaa7-e673-49b4-a2fd-dd418ef88772",
   "metadata": {},
   "outputs": [],
   "source": [
    "plot_corr_heatmap(data_train[square_feet_columns])"
   ]
  }
 ],
 "metadata": {
  "kernelspec": {
   "display_name": "Python (.env)",
   "language": "python",
   "name": ".env"
  },
  "language_info": {
   "codemirror_mode": {
    "name": "ipython",
    "version": 3
   },
   "file_extension": ".py",
   "mimetype": "text/x-python",
   "name": "python",
   "nbconvert_exporter": "python",
   "pygments_lexer": "ipython3",
   "version": "3.12.3"
  }
 },
 "nbformat": 4,
 "nbformat_minor": 5
}
