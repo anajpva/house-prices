{
 "cells": [
  {
   "cell_type": "code",
   "execution_count": null,
   "id": "016634b9-d0ea-4058-a013-664774e39c38",
   "metadata": {},
   "outputs": [],
   "source": [
    "import sys\n",
    "import os\n",
    "\n",
    "# Add project root to pythonpath\n",
    "sys.path.append(os.path.abspath(os.path.join(os.getcwd(), '..')))"
   ]
  },
  {
   "cell_type": "code",
   "execution_count": null,
   "id": "880e2e93-17c0-4e81-bd24-4ea2da19b00c",
   "metadata": {},
   "outputs": [],
   "source": [
    "import numpy as np\n",
    "import pandas as pd\n",
    "\n",
    "from src.data.load_data import load_data\n",
    "from src.features.engineering import feature_engineering\n",
    "from src.features.preprocess import pipeline\n",
    "from src.utils import model_summary"
   ]
  },
  {
   "cell_type": "code",
   "execution_count": null,
   "id": "92136c32-47bd-4ac1-beb0-c487c3c43e11",
   "metadata": {},
   "outputs": [],
   "source": [
    "# Load data\n",
    "data_path = '/data/train/train.csv'\n",
    "data = load_data(data_path)"
   ]
  },
  {
   "cell_type": "code",
   "execution_count": null,
   "id": "2ad1841a-d14b-4441-9421-f097f6e3b6ef",
   "metadata": {},
   "outputs": [],
   "source": [
    "data_train = feature_engineering(data)"
   ]
  },
  {
   "cell_type": "code",
   "execution_count": null,
   "id": "68cd2bb8-cbc0-4690-a007-cba565ded04a",
   "metadata": {},
   "outputs": [],
   "source": [
    "from sklearn.model_selection import GridSearchCV\n",
    "from sklearn.metrics import mean_squared_error\n",
    "\n",
    "from sklearn.linear_model import Ridge\n",
    "from sklearn.ensemble import RandomForestRegressor, GradientBoostingRegressor, VotingRegressor, StackingRegressor\n",
    "from xgboost import XGBRegressor\n",
    "import lightgbm as lgb\n",
    "from catboost import CatBoostRegressor"
   ]
  },
  {
   "cell_type": "code",
   "execution_count": null,
   "id": "e664d7c1-f8a9-42fa-9c46-c2e93278df2e",
   "metadata": {},
   "outputs": [],
   "source": [
    "# OneHotEncoder columns\n",
    "ohe_cols = ['Street','Neighborhood','Condition1','Condition2','RoofMatl','Exterior1st',\n",
    "               'Exterior2nd','Foundation','Heating','Electrical','GarageType', 'RoofStyle',\n",
    "               'SaleType','SaleCondition','LotConfig','BldgType','HouseStyle', 'MSZoning']\n",
    "\n",
    "# OrdinalEncoder columns\n",
    "ore_cols = ['LotShape','LandContour','Utilities','LandSlope','ExterQual','ExterCond',\n",
    "               'BsmtQual','BsmtExposure','BsmtFinType1','HeatingQC','CentralAir','KitchenQual',\n",
    "               'Functional','FireplaceQu','GarageFinish','PavedDrive']\n",
    "\n",
    "number_cols = data_train.select_dtypes(include=['number']).columns\n",
    "number_cols = number_cols.drop('SalePrice')"
   ]
  },
  {
   "cell_type": "code",
   "execution_count": null,
   "id": "ae3110ef-245a-4304-a685-a9e0595c2024",
   "metadata": {},
   "outputs": [],
   "source": [
    "X = data_train.drop('SalePrice', axis=1)\n",
    "y_train = data_train['SalePrice']"
   ]
  },
  {
   "cell_type": "code",
   "execution_count": null,
   "id": "9af4a582-e2be-45d4-9908-8a43f2e581d2",
   "metadata": {},
   "outputs": [],
   "source": [
    "dspipeline = pipeline(number_cols, ore_cols, ohe_cols)"
   ]
  },
  {
   "cell_type": "code",
   "execution_count": null,
   "id": "7e7da0d8-05ec-4c3d-89ed-b3ff039ec3d8",
   "metadata": {},
   "outputs": [],
   "source": [
    "X_train = dspipeline.fit_transform(X)"
   ]
  },
  {
   "cell_type": "code",
   "execution_count": null,
   "id": "db40791b-b515-497b-977f-8bebb83c33e1",
   "metadata": {},
   "outputs": [],
   "source": [
    "rfr = RandomForestRegressor(random_state=13)\n",
    "param_grid_rfr = {\n",
    "    'max_depth': [12, 15, 18],\n",
    "    'n_estimators': [250, 500, 750],\n",
    "    'min_samples_split': [3, 5, 10]\n",
    "}\n",
    "rfr_cv = GridSearchCV(rfr, param_grid_rfr, cv=5, scoring='neg_mean_squared_error', n_jobs=-1)\n",
    "rfr_cv.fit(X_train, y_train)"
   ]
  },
  {
   "cell_type": "code",
   "execution_count": null,
   "id": "c62d5dd9-bd0c-42e6-a547-9f9244ebf725",
   "metadata": {},
   "outputs": [],
   "source": [
    "xgb_rmse = model_summary(\"RFR\", rfr_cv, X_train, y_train)\n",
    "\n",
    "# Mean squared error: 0.12909"
   ]
  },
  {
   "cell_type": "code",
   "execution_count": null,
   "id": "18c0df33-3709-4efa-9ae6-3e740ed54c11",
   "metadata": {},
   "outputs": [],
   "source": [
    "xgb = XGBRegressor(random_state=13)\n",
    "\n",
    "param_grid_xgb = {\n",
    "    'learning_rate': [0.05, 0.1, 0.2],\n",
    "    'n_estimators': [300],\n",
    "    'max_depth': [3],\n",
    "    'min_child_weight': [1,2,3],\n",
    "    'gamma': [0, 0.1, 0.2],\n",
    "    'subsample': [0.8, 0.9, 1.0],\n",
    "    'colsample_bytree': [0.8, 0.9, 1.0],\n",
    "}\n",
    "\n",
    "xgb_cv = GridSearchCV(\n",
    "    xgb, \n",
    "    param_grid_xgb, \n",
    "    cv=3, \n",
    "    scoring='neg_mean_squared_error', \n",
    "    n_jobs=-1)\n",
    "\n",
    "xgb_cv.fit(X_train, y_train)"
   ]
  },
  {
   "cell_type": "code",
   "execution_count": null,
   "id": "2f17327b-d99b-4239-a2d4-9c99dd5e5ac7",
   "metadata": {},
   "outputs": [],
   "source": [
    "xgb_rmse = model_summary(\"XGB\", xgb_cv, X_train, y_train)\n",
    "\n",
    "# Best XGB MRSE result: 0.1169"
   ]
  },
  {
   "cell_type": "code",
   "execution_count": null,
   "id": "db42b1fd-2a86-4850-b0c8-8957f55c2f9b",
   "metadata": {
    "scrolled": true
   },
   "outputs": [],
   "source": [
    "ridge = Ridge()\n",
    "\n",
    "param_grid_ridge = {\n",
    "    'alpha': [0.05, 0.1, 1, 3, 5, 10],\n",
    "    'solver': ['auto', 'svd', 'cholesky', 'lsqr', 'sparse_cg', 'sag']\n",
    "}\n",
    "ridge_cv = GridSearchCV(ridge, param_grid_ridge, cv=5, scoring='neg_mean_squared_error', n_jobs=-1)\n",
    "\n",
    "ridge_cv.fit(X_train, y_train)"
   ]
  },
  {
   "cell_type": "code",
   "execution_count": null,
   "id": "a3c6b6ac-5a02-4a3b-98d9-e7017b7f9f84",
   "metadata": {},
   "outputs": [],
   "source": [
    "ridge_rmse = model_summary(\"Ridge\", ridge_cv, X_train, y_train)\n",
    "\n",
    "# Best Ridge MRSE result: 0.1124"
   ]
  },
  {
   "cell_type": "code",
   "execution_count": null,
   "id": "bc696b42-6412-45ed-bb54-fbe338e30f8e",
   "metadata": {},
   "outputs": [],
   "source": [
    "gbr = GradientBoostingRegressor()\n",
    "\n",
    "param_grid_gbr = {\n",
    "    'max_depth': [12, 15, 20],\n",
    "    'n_estimators': [200, 300, 1000],\n",
    "    'min_samples_leaf': [10, 25, 50],\n",
    "    'learning_rate': [0.001, 0.01, 0.1], \n",
    "    'max_features': [0.01, 0.1, 0.7]\n",
    "}\n",
    "\n",
    "gbr_cv = GridSearchCV(gbr, param_grid_gbr, cv=5, scoring='neg_mean_squared_error', n_jobs=-1)\n",
    "gbr_cv.fit(X_train, y_train)"
   ]
  },
  {
   "cell_type": "code",
   "execution_count": null,
   "id": "4b4732a6-1d22-41df-8ddf-5012b30fd4ac",
   "metadata": {},
   "outputs": [],
   "source": [
    "gbr_rmse = model_summary(\"GBR\", gbr_cv, X_train, y_train)\n",
    "\n",
    "# Best GBR MRSE result: 0.1163"
   ]
  },
  {
   "cell_type": "code",
   "execution_count": null,
   "id": "0faa2624-9851-4e6c-ab2e-5ca9a0ddd9ca",
   "metadata": {
    "scrolled": true
   },
   "outputs": [],
   "source": [
    "lgbm_regressor = lgb.LGBMRegressor()\n",
    "\n",
    "param_grid_lgbm = {\n",
    "    'boosting_type': ['gbdt', 'dart'],\n",
    "    'num_leaves': [20, 30, 40],\n",
    "    'learning_rate': [0.01, 0.05, 0.1],\n",
    "    'n_estimators': [100, 200, 300]\n",
    "}\n",
    "\n",
    "lgbm_cv = GridSearchCV(\n",
    "    lgbm_regressor, \n",
    "    param_grid_lgbm, \n",
    "    cv=3, \n",
    "    scoring='neg_mean_squared_error', \n",
    "    n_jobs=-1\n",
    ")\n",
    "\n",
    "lgbm_cv.fit(X_train, y_train)"
   ]
  },
  {
   "cell_type": "code",
   "execution_count": null,
   "id": "84dc6231-fc0c-4c27-b19b-fac7434f45c5",
   "metadata": {},
   "outputs": [],
   "source": [
    "lgbm_rmse = model_summary(\"LGBM\", lgbm_cv, X_train, y_train)\n",
    "\n",
    "# Best LGBM MRSE result: 0.1274"
   ]
  },
  {
   "cell_type": "code",
   "execution_count": null,
   "id": "46cd084d-cf29-41ce-b6a2-fa303609cecf",
   "metadata": {
    "scrolled": true
   },
   "outputs": [],
   "source": [
    "catboost = CatBoostRegressor(loss_function='RMSE', verbose=False)\n",
    "\n",
    "param_grid_cat ={\n",
    "    'iterations': [100, 500, 1000],\n",
    "    'depth': [4, 6, 8, 10],\n",
    "    'learning_rate': [0.01, 0.05, 0.1, 0.5]\n",
    "}\n",
    "\n",
    "cat_cv = GridSearchCV(catboost, param_grid_cat, cv=3, scoring='neg_mean_squared_error', n_jobs=-1)\n",
    "cat_cv.fit(X_train, y_train)"
   ]
  },
  {
   "cell_type": "code",
   "execution_count": null,
   "id": "6b820448-e132-4f29-ab73-644b92579cf4",
   "metadata": {},
   "outputs": [],
   "source": [
    "cat_cv_rmse = model_summary(\"CatBoost\", cat_cv, X_train, y_train)\n",
    "\n",
    "# Best CatBoost MRSE result: 0.115"
   ]
  },
  {
   "cell_type": "code",
   "execution_count": null,
   "id": "f3a9025f-f4e0-4604-8aa7-fde9ee191738",
   "metadata": {},
   "outputs": [],
   "source": [
    "#Print RMSE values\n",
    "\n",
    "print(f\"cat_cv_rmse: {round(cat_cv_rmse, 4)}\")\n",
    "print(f\"lgbm_rmse: {round(lgbm_rmse, 4)}\")\n",
    "print(f\"xgb_rmse: {round(xgb_rmse, 4)}\")\n",
    "print(f\"ridge_rmse: {round(ridge_rmse, 4)}\")\n",
    "print(f\"gbr_rmse: {round(gbr_rmse, 4)}\")"
   ]
  },
  {
   "cell_type": "code",
   "execution_count": null,
   "id": "8fb22b36-5baf-4df6-beb6-8822249578ac",
   "metadata": {
    "scrolled": true
   },
   "outputs": [],
   "source": [
    "vr = VotingRegressor([('gbr', gbr_cv.best_estimator_),\n",
    "                      ('xgb', xgb_cv.best_estimator_),\n",
    "                      ('ridge', ridge_cv.best_estimator_),\n",
    "                      ],\n",
    "                    weights=[2,1,1])\n",
    "\n",
    "vr.fit(X_train, y_train)"
   ]
  },
  {
   "cell_type": "code",
   "execution_count": null,
   "id": "8dffd5aa-b522-4f06-aee2-88bea45c99a7",
   "metadata": {},
   "outputs": [],
   "source": [
    "y_pred_vr = vr.predict(X_train)\n",
    "mean_squared_error(y_train, y_pred_vr, squared=False)\n",
    "\n",
    "# 0.067281"
   ]
  },
  {
   "cell_type": "code",
   "execution_count": null,
   "id": "1143a830-18b4-46ab-a8d1-23052445e822",
   "metadata": {},
   "outputs": [],
   "source": [
    "estimators = [\n",
    "    ('gbr', gbr_cv.best_estimator_),\n",
    "    ('xgb', xgb_cv.best_estimator_),\n",
    "    ('cat', cat_cv.best_estimator_),\n",
    "    ('lgb', lgbm_cv.best_estimator_),\n",
    "    ('rfr', rfr_cv.best_estimator_),\n",
    "]"
   ]
  },
  {
   "cell_type": "code",
   "execution_count": null,
   "id": "6936b848-352c-41da-afad-c36534b4e4b5",
   "metadata": {},
   "outputs": [],
   "source": [
    "stackreg = StackingRegressor(\n",
    "            estimators = estimators,\n",
    "            final_estimator = vr\n",
    ")"
   ]
  },
  {
   "cell_type": "code",
   "execution_count": null,
   "id": "ada7a5bc-fb72-4eae-bec1-a93c9a4b8b1f",
   "metadata": {
    "scrolled": true
   },
   "outputs": [],
   "source": [
    "stackreg.fit(X_train, y_train)"
   ]
  },
  {
   "cell_type": "code",
   "execution_count": null,
   "id": "1847ce00-4e31-4023-8f3d-ab7357dc1a26",
   "metadata": {},
   "outputs": [],
   "source": [
    "y_pred_stack = stackreg.predict(X_train)\n",
    "mean_squared_error(y_train, y_pred_stack, squared=False)\n",
    "\n",
    "# 0.063511"
   ]
  },
  {
   "cell_type": "code",
   "execution_count": null,
   "id": "c6e195c9-b51b-44e3-96fe-44c425def3d1",
   "metadata": {},
   "outputs": [],
   "source": [
    "dtest = pd.read_csv('../data/test/test.csv')\n",
    "data_test_f = feature_engineering(dtest)"
   ]
  },
  {
   "cell_type": "code",
   "execution_count": null,
   "id": "d5073979-abe0-470a-aaaf-852558db7b8a",
   "metadata": {},
   "outputs": [],
   "source": [
    "X_test_f = dspipeline.transform(data_test_f)"
   ]
  },
  {
   "cell_type": "code",
   "execution_count": null,
   "id": "cb187bcf-1774-4089-a7af-a6d5bf57502c",
   "metadata": {},
   "outputs": [],
   "source": [
    "y_test_f = np.exp(stackreg.predict(X_test_f))"
   ]
  },
  {
   "cell_type": "code",
   "execution_count": null,
   "id": "7e5a4910-7b74-47ac-96f1-c774fe1b8008",
   "metadata": {},
   "outputs": [],
   "source": [
    "result = dtest[['Id']].copy()\n",
    "result.loc[:, 'SalePrice'] = y_test_f"
   ]
  },
  {
   "cell_type": "code",
   "execution_count": null,
   "id": "39e16af8-0432-43da-b819-ad46e76e6985",
   "metadata": {},
   "outputs": [],
   "source": [
    "result.to_csv('../predictions/submission_v1_wholeds_20250115.csv', index=False)\n",
    "\n",
    "# Scored Mean Squared Error => 0.12909"
   ]
  }
 ],
 "metadata": {
  "kernelspec": {
   "display_name": "Python (.env)",
   "language": "python",
   "name": ".env"
  },
  "language_info": {
   "codemirror_mode": {
    "name": "ipython",
    "version": 3
   },
   "file_extension": ".py",
   "mimetype": "text/x-python",
   "name": "python",
   "nbconvert_exporter": "python",
   "pygments_lexer": "ipython3",
   "version": "3.12.3"
  }
 },
 "nbformat": 4,
 "nbformat_minor": 5
}
